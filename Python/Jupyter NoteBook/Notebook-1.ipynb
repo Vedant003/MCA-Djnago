{
 "cells": [
  {
   "cell_type": "markdown",
   "metadata": {},
   "source": [
    "Python Programs on Functions:"
   ]
  },
  {
   "cell_type": "code",
   "execution_count": 1,
   "metadata": {},
   "outputs": [
    {
     "name": "stdout",
     "output_type": "stream",
     "text": [
      "The sum of 5 and 7 is: 12\n"
     ]
    }
   ],
   "source": [
    "# Program to find the sum of two numbers using a function\n",
    "\n",
    "def add_numbers(a, b):\n",
    "    return a + b\n",
    "\n",
    "num1 = 5\n",
    "num2 = 7\n",
    "result = add_numbers(num1, num2)\n",
    "print(f\"The sum of {num1} and {num2} is: {result}\")\n"
   ]
  },
  {
   "cell_type": "markdown",
   "metadata": {},
   "source": [
    "Programs on Recursion to Find the Factorial of a Number:"
   ]
  },
  {
   "cell_type": "code",
   "execution_count": 2,
   "metadata": {},
   "outputs": [
    {
     "name": "stdout",
     "output_type": "stream",
     "text": [
      "The factorial of 5 is: 120\n"
     ]
    }
   ],
   "source": [
    "# Program to find the factorial of a number using recursion\n",
    "\n",
    "def factorial(n):\n",
    "    if n == 0 or n == 1:\n",
    "        return 1\n",
    "    else:\n",
    "        return n * factorial(n - 1)\n",
    "\n",
    "number = 5\n",
    "result = factorial(number)\n",
    "print(f\"The factorial of {number} is: {result}\")\n"
   ]
  },
  {
   "cell_type": "markdown",
   "metadata": {},
   "source": [
    "Python Programs on Lambda Function:"
   ]
  },
  {
   "cell_type": "code",
   "execution_count": 3,
   "metadata": {},
   "outputs": [
    {
     "name": "stdout",
     "output_type": "stream",
     "text": [
      "The square of 8 is: 64\n"
     ]
    }
   ],
   "source": [
    "# Program to use lambda function to calculate the square of a number\n",
    "\n",
    "square = lambda x: x ** 2\n",
    "number = 8\n",
    "result = square(number)\n",
    "print(f\"The square of {number} is: {result}\")\n"
   ]
  },
  {
   "cell_type": "markdown",
   "metadata": {},
   "source": [
    "Programs on __init__ Function:"
   ]
  },
  {
   "cell_type": "code",
   "execution_count": 4,
   "metadata": {},
   "outputs": [
    {
     "name": "stdout",
     "output_type": "stream",
     "text": [
      "Name: Vedant, Age: 21\n"
     ]
    }
   ],
   "source": [
    "# Class with __init__ function and a normal function\n",
    "\n",
    "class Person:\n",
    "    def __init__(self, name, age):\n",
    "        self.name = name\n",
    "        self.age = age\n",
    "\n",
    "    def display_details(self):\n",
    "        print(f\"Name: {self.name}, Age: {self.age}\")\n",
    "\n",
    "# Create an instance of the Person class\n",
    "person1 = Person(\"Vedant\", 21)\n",
    "\n",
    "# Display details using the class method\n",
    "person1.display_details()\n"
   ]
  },
  {
   "cell_type": "markdown",
   "metadata": {},
   "source": [
    "Create a Class with __init__ Function and a Normal Def Function for Displaying Details:"
   ]
  },
  {
   "cell_type": "code",
   "execution_count": 5,
   "metadata": {},
   "outputs": [
    {
     "name": "stdout",
     "output_type": "stream",
     "text": [
      "Name: Vedant, Designation: Software Engineer\n"
     ]
    }
   ],
   "source": [
    "# Class with __init__ function and a normal def function for displaying details\n",
    "\n",
    "class Employee:\n",
    "    def __init__(self, name, designation):\n",
    "        self.name = name\n",
    "        self.designation = designation\n",
    "\n",
    "    def display_details(self):\n",
    "        print(f\"Name: {self.name}, Designation: {self.designation}\")\n",
    "\n",
    "# Create an instance of the Employee class\n",
    "employee1 = Employee(\"Vedant\", \"Software Engineer\")\n",
    "\n",
    "# Display details using the class method\n",
    "employee1.display_details()\n"
   ]
  },
  {
   "cell_type": "markdown",
   "metadata": {},
   "source": [
    "Program to Print Star Pattern:"
   ]
  },
  {
   "cell_type": "code",
   "execution_count": 6,
   "metadata": {},
   "outputs": [
    {
     "name": "stdout",
     "output_type": "stream",
     "text": [
      "* \n",
      "* * \n",
      "* * * \n",
      "* * * * \n",
      "* * * * * \n"
     ]
    }
   ],
   "source": [
    "# Program to print a simple star pattern\n",
    "\n",
    "rows = 5\n",
    "\n",
    "for i in range(1, rows + 1):\n",
    "    for j in range(1, i + 1):\n",
    "        print(\"*\", end=\" \")\n",
    "    print()\n"
   ]
  },
  {
   "cell_type": "code",
   "execution_count": 2,
   "metadata": {},
   "outputs": [
    {
     "data": {
      "image/png": "[encoded data removed]",
      "text/plain": [
       "<Figure size 640x480 with 1 Axes>"
      ]
     },
     "metadata": {},
     "output_type": "display_data"
    }
   ],
   "source": [
    "import matplotlib.pyplot as plt\n",
    "\n",
    "# Sample data\n",
    "x = [1, 2, 3, 4, 5]\n",
    "y = [2, 4, 6, 8, 10]\n",
    "\n",
    "# Create a line plot\n",
    "plt.plot(x, y, label='Simple Line Plot')\n",
    "\n",
    "# Add labels to the plot\n",
    "plt.xlabel('X-axis')\n",
    "plt.ylabel('Y-axis')\n",
    "\n",
    "# Add a title to the plot\n",
    "plt.title('Simple Matplotlib Example')\n",
    "\n",
    "# Add a legend\n",
    "plt.legend()\n",
    "\n",
    "# Display the plot\n",
    "plt.show()\n"
   ]
  },
  {
   "cell_type": "code",
   "execution_count": 7,
   "metadata": {},
   "outputs": [
    {
     "name": "stdout",
     "output_type": "stream",
     "text": [
      "Original DataFrame:\n",
      "      Name  Age           City\n",
      "0   Vedant   21          India\n",
      "1      Bob   30  San Francisco\n",
      "2  Charlie   35    Los Angeles\n",
      "3    David   28        Chicago\n",
      "4     Emma   22         Boston\n",
      "\n",
      "\n",
      "Basic Statistics:\n",
      "            Age\n",
      "count   5.00000\n",
      "mean   27.20000\n",
      "std     5.80517\n",
      "min    21.00000\n",
      "25%    22.00000\n",
      "50%    28.00000\n",
      "75%    30.00000\n",
      "max    35.00000\n",
      "\n",
      "\n",
      "Young People:\n",
      "     Name  Age     City\n",
      "0  Vedant   21    India\n",
      "3   David   28  Chicago\n",
      "4    Emma   22   Boston\n",
      "\n",
      "\n",
      "Sorted DataFrame:\n",
      "      Name  Age           City\n",
      "2  Charlie   35    Los Angeles\n",
      "1      Bob   30  San Francisco\n",
      "3    David   28        Chicago\n",
      "4     Emma   22         Boston\n",
      "0   Vedant   21          India\n",
      "\n",
      "\n",
      "Average Age by City:\n",
      "City\n",
      "Boston           22.0\n",
      "Chicago          28.0\n",
      "India            21.0\n",
      "Los Angeles      35.0\n",
      "San Francisco    30.0\n",
      "Name: Age, dtype: float64\n",
      "\n",
      "\n",
      "DataFrame saved to 'example_dataframe.csv'\n"
     ]
    }
   ],
   "source": [
    "import pandas as pd\n",
    "\n",
    "# Create a DataFrame from a dictionary\n",
    "data = {\n",
    "    'Name': ['Vedant', 'Bob', 'Charlie', 'David', 'Emma'],\n",
    "    'Age': [21, 30, 35, 28, 22],\n",
    "    'City': ['India', 'San Francisco', 'Los Angeles', 'Chicago', 'Boston']\n",
    "}\n",
    "\n",
    "df = pd.DataFrame(data)\n",
    "\n",
    "# Display the DataFrame\n",
    "print(\"Original DataFrame:\")\n",
    "print(df)\n",
    "print(\"\\n\")\n",
    "\n",
    "# Basic statistics on the numerical columns\n",
    "print(\"Basic Statistics:\")\n",
    "print(df.describe())\n",
    "print(\"\\n\")\n",
    "\n",
    "# Filter data based on a condition\n",
    "young_people = df[df['Age'] < 30]\n",
    "print(\"Young People:\")\n",
    "print(young_people)\n",
    "print(\"\\n\")\n",
    "\n",
    "# Sort the DataFrame by Age in descending order\n",
    "sorted_df = df.sort_values(by='Age', ascending=False)\n",
    "print(\"Sorted DataFrame:\")\n",
    "print(sorted_df)\n",
    "print(\"\\n\")\n",
    "\n",
    "# Group data by City and calculate the average age in each city\n",
    "average_age_by_city = df.groupby('City')['Age'].mean()\n",
    "print(\"Average Age by City:\")\n",
    "print(average_age_by_city)\n",
    "print(\"\\n\")\n",
    "\n",
    "# Save the DataFrame to a CSV file\n",
    "df.to_csv('example_dataframe.csv', index=False)\n",
    "print(\"DataFrame saved to 'example_dataframe.csv'\")\n"
   ]
  },
  {
   "cell_type": "code",
   "execution_count": 13,
   "metadata": {},
   "outputs": [
    {
     "name": "stdout",
     "output_type": "stream",
     "text": [
      "No article titles found on the page.\n"
     ]
    }
   ],
   "source": [
    "import requests\n",
    "from bs4 import BeautifulSoup\n",
    "\n",
    "url = \"https://www.amazon.in/\"\n",
    "\n",
    "try:\n",
    "    response = requests.get(url)\n",
    "    response.raise_for_status()  # Raise an HTTPError for bad responses (4xx or 5xx)\n",
    "\n",
    "    if response.status_code == 200:\n",
    "        soup = BeautifulSoup(response.text, 'html.parser')\n",
    "        article_titles = soup.find_all('h2', class_='article-title')\n",
    "\n",
    "        if article_titles:\n",
    "            for title in article_titles:\n",
    "                print(title.text)\n",
    "        else:\n",
    "            print(\"No article titles found on the page.\")\n",
    "    else:\n",
    "        print(f\"Failed to retrieve the webpage. Status code: {response.status_code}\")\n",
    "\n",
    "except requests.exceptions.RequestException as e:\n",
    "    print(f\"Error: {e}\")\n",
    "\n"
   ]
  },
  {
   "cell_type": "code",
   "execution_count": 15,
   "metadata": {},
   "outputs": [
    {
     "data": {
      "image/png": "[encoded data removed]",
      "text/plain": [
       "<Figure size 640x480 with 1 Axes>"
      ]
     },
     "metadata": {},
     "output_type": "display_data"
    }
   ],
   "source": [
    "import numpy as np\n",
    "from scipy.optimize import curve_fit\n",
    "import matplotlib.pyplot as plt\n",
    "\n",
    "# Define the true function\n",
    "def true_function(x):\n",
    "    return 2 * x + 1\n",
    "\n",
    "# Generate some noisy data points\n",
    "np.random.seed(0)\n",
    "x_data = np.linspace(0, 10, 20)\n",
    "y_data = true_function(x_data) + np.random.normal(scale=1, size=len(x_data))\n",
    "\n",
    "# Define the function to fit\n",
    "def fit_function(x, a, b):\n",
    "    return a * x + b\n",
    "\n",
    "# Use curve_fit to fit the data\n",
    "params, covariance = curve_fit(fit_function, x_data, y_data)\n",
    "\n",
    "# Extract the fitted parameters\n",
    "a_fit, b_fit = params\n",
    "\n",
    "# Plot the data and the fitted curve\n",
    "plt.scatter(x_data, y_data, label='Noisy Data')\n",
    "plt.plot(x_data, fit_function(x_data, a_fit, b_fit), color='red', label='Fitted Curve')\n",
    "plt.plot(x_data, true_function(x_data), color='green', linestyle='dashed', label='True Function')\n",
    "plt.legend()\n",
    "plt.show()"
   ]
  },
  {
   "cell_type": "code",
   "execution_count": 1,
   "metadata": {},
   "outputs": [
    {
     "name": "stdout",
     "output_type": "stream",
     "text": [
      "   *\n",
      "  ***\n",
      " *****\n",
      "*******\n"
     ]
    }
   ],
   "source": [
    "def print_star_pattern(rows):\n",
    "    for i in range(1, rows + 1):\n",
    "        for j in range(1, rows - i + 1):\n",
    "            print(\" \", end=\"\")\n",
    "        for k in range(1, 2 * i):\n",
    "            print(\"*\", end=\"\")\n",
    "        print()\n",
    "\n",
    "rows = 4\n",
    "\n",
    "print_star_pattern(rows)\n"
   ]
  }
 ],
 "metadata": {
  "kernelspec": {
   "display_name": "Python 3",
   "language": "python",
   "name": "python3"
  },
  "language_info": {
   "codemirror_mode": {
    "name": "ipython",
    "version": 3
   },
   "file_extension": ".py",
   "mimetype": "text/x-python",
   "name": "python",
   "nbconvert_exporter": "python",
   "pygments_lexer": "ipython3",
   "version": "3.12.1"
  }
 },
 "nbformat": 4,
 "nbformat_minor": 2
}
